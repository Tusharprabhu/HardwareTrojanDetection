{
  "nbformat": 4,
  "nbformat_minor": 0,
  "metadata": {
    "colab": {
      "provenance": []
    },
    "kernelspec": {
      "name": "python3",
      "display_name": "Python 3"
    },
    "language_info": {
      "name": "python"
    },
    "widgets": {
      "application/vnd.jupyter.widget-state+json": {
        "57c49486157d4074bc9283a89383975a": {
          "model_module": "@jupyter-widgets/controls",
          "model_name": "HBoxModel",
          "model_module_version": "1.5.0",
          "state": {
            "_dom_classes": [],
            "_model_module": "@jupyter-widgets/controls",
            "_model_module_version": "1.5.0",
            "_model_name": "HBoxModel",
            "_view_count": null,
            "_view_module": "@jupyter-widgets/controls",
            "_view_module_version": "1.5.0",
            "_view_name": "HBoxView",
            "box_style": "",
            "children": [
              "IPY_MODEL_338a5d01f52f46d49b3b9786e1add0b5",
              "IPY_MODEL_7bc25562b1984187aa9135071030355d",
              "IPY_MODEL_81085898d308452b88005e5ff73c9124"
            ],
            "layout": "IPY_MODEL_473a6b321440494e8416906be09f5d01"
          }
        },
        "338a5d01f52f46d49b3b9786e1add0b5": {
          "model_module": "@jupyter-widgets/controls",
          "model_name": "HTMLModel",
          "model_module_version": "1.5.0",
          "state": {
            "_dom_classes": [],
            "_model_module": "@jupyter-widgets/controls",
            "_model_module_version": "1.5.0",
            "_model_name": "HTMLModel",
            "_view_count": null,
            "_view_module": "@jupyter-widgets/controls",
            "_view_module_version": "1.5.0",
            "_view_name": "HTMLView",
            "description": "",
            "description_tooltip": null,
            "layout": "IPY_MODEL_0f96faf76f734a7aadbc5e91148159fa",
            "placeholder": "​",
            "style": "IPY_MODEL_3b3810eba40445ebacc7a32dd383b171",
            "value": "Loading checkpoint shards: 100%"
          }
        },
        "7bc25562b1984187aa9135071030355d": {
          "model_module": "@jupyter-widgets/controls",
          "model_name": "FloatProgressModel",
          "model_module_version": "1.5.0",
          "state": {
            "_dom_classes": [],
            "_model_module": "@jupyter-widgets/controls",
            "_model_module_version": "1.5.0",
            "_model_name": "FloatProgressModel",
            "_view_count": null,
            "_view_module": "@jupyter-widgets/controls",
            "_view_module_version": "1.5.0",
            "_view_name": "ProgressView",
            "bar_style": "success",
            "description": "",
            "description_tooltip": null,
            "layout": "IPY_MODEL_d8b6eee36ff24d759b676d94665f1470",
            "max": 2,
            "min": 0,
            "orientation": "horizontal",
            "style": "IPY_MODEL_264eb4c8f41a4d4fab4cffc012996eee",
            "value": 2
          }
        },
        "81085898d308452b88005e5ff73c9124": {
          "model_module": "@jupyter-widgets/controls",
          "model_name": "HTMLModel",
          "model_module_version": "1.5.0",
          "state": {
            "_dom_classes": [],
            "_model_module": "@jupyter-widgets/controls",
            "_model_module_version": "1.5.0",
            "_model_name": "HTMLModel",
            "_view_count": null,
            "_view_module": "@jupyter-widgets/controls",
            "_view_module_version": "1.5.0",
            "_view_name": "HTMLView",
            "description": "",
            "description_tooltip": null,
            "layout": "IPY_MODEL_40d7e76c14ec413fa2627d3db402a916",
            "placeholder": "​",
            "style": "IPY_MODEL_85c509cf4729448f8ba3675de2ce3552",
            "value": " 2/2 [00:00&lt;00:00, 26.27it/s]"
          }
        },
        "473a6b321440494e8416906be09f5d01": {
          "model_module": "@jupyter-widgets/base",
          "model_name": "LayoutModel",
          "model_module_version": "1.2.0",
          "state": {
            "_model_module": "@jupyter-widgets/base",
            "_model_module_version": "1.2.0",
            "_model_name": "LayoutModel",
            "_view_count": null,
            "_view_module": "@jupyter-widgets/base",
            "_view_module_version": "1.2.0",
            "_view_name": "LayoutView",
            "align_content": null,
            "align_items": null,
            "align_self": null,
            "border": null,
            "bottom": null,
            "display": null,
            "flex": null,
            "flex_flow": null,
            "grid_area": null,
            "grid_auto_columns": null,
            "grid_auto_flow": null,
            "grid_auto_rows": null,
            "grid_column": null,
            "grid_gap": null,
            "grid_row": null,
            "grid_template_areas": null,
            "grid_template_columns": null,
            "grid_template_rows": null,
            "height": null,
            "justify_content": null,
            "justify_items": null,
            "left": null,
            "margin": null,
            "max_height": null,
            "max_width": null,
            "min_height": null,
            "min_width": null,
            "object_fit": null,
            "object_position": null,
            "order": null,
            "overflow": null,
            "overflow_x": null,
            "overflow_y": null,
            "padding": null,
            "right": null,
            "top": null,
            "visibility": null,
            "width": null
          }
        },
        "0f96faf76f734a7aadbc5e91148159fa": {
          "model_module": "@jupyter-widgets/base",
          "model_name": "LayoutModel",
          "model_module_version": "1.2.0",
          "state": {
            "_model_module": "@jupyter-widgets/base",
            "_model_module_version": "1.2.0",
            "_model_name": "LayoutModel",
            "_view_count": null,
            "_view_module": "@jupyter-widgets/base",
            "_view_module_version": "1.2.0",
            "_view_name": "LayoutView",
            "align_content": null,
            "align_items": null,
            "align_self": null,
            "border": null,
            "bottom": null,
            "display": null,
            "flex": null,
            "flex_flow": null,
            "grid_area": null,
            "grid_auto_columns": null,
            "grid_auto_flow": null,
            "grid_auto_rows": null,
            "grid_column": null,
            "grid_gap": null,
            "grid_row": null,
            "grid_template_areas": null,
            "grid_template_columns": null,
            "grid_template_rows": null,
            "height": null,
            "justify_content": null,
            "justify_items": null,
            "left": null,
            "margin": null,
            "max_height": null,
            "max_width": null,
            "min_height": null,
            "min_width": null,
            "object_fit": null,
            "object_position": null,
            "order": null,
            "overflow": null,
            "overflow_x": null,
            "overflow_y": null,
            "padding": null,
            "right": null,
            "top": null,
            "visibility": null,
            "width": null
          }
        },
        "3b3810eba40445ebacc7a32dd383b171": {
          "model_module": "@jupyter-widgets/controls",
          "model_name": "DescriptionStyleModel",
          "model_module_version": "1.5.0",
          "state": {
            "_model_module": "@jupyter-widgets/controls",
            "_model_module_version": "1.5.0",
            "_model_name": "DescriptionStyleModel",
            "_view_count": null,
            "_view_module": "@jupyter-widgets/base",
            "_view_module_version": "1.2.0",
            "_view_name": "StyleView",
            "description_width": ""
          }
        },
        "d8b6eee36ff24d759b676d94665f1470": {
          "model_module": "@jupyter-widgets/base",
          "model_name": "LayoutModel",
          "model_module_version": "1.2.0",
          "state": {
            "_model_module": "@jupyter-widgets/base",
            "_model_module_version": "1.2.0",
            "_model_name": "LayoutModel",
            "_view_count": null,
            "_view_module": "@jupyter-widgets/base",
            "_view_module_version": "1.2.0",
            "_view_name": "LayoutView",
            "align_content": null,
            "align_items": null,
            "align_self": null,
            "border": null,
            "bottom": null,
            "display": null,
            "flex": null,
            "flex_flow": null,
            "grid_area": null,
            "grid_auto_columns": null,
            "grid_auto_flow": null,
            "grid_auto_rows": null,
            "grid_column": null,
            "grid_gap": null,
            "grid_row": null,
            "grid_template_areas": null,
            "grid_template_columns": null,
            "grid_template_rows": null,
            "height": null,
            "justify_content": null,
            "justify_items": null,
            "left": null,
            "margin": null,
            "max_height": null,
            "max_width": null,
            "min_height": null,
            "min_width": null,
            "object_fit": null,
            "object_position": null,
            "order": null,
            "overflow": null,
            "overflow_x": null,
            "overflow_y": null,
            "padding": null,
            "right": null,
            "top": null,
            "visibility": null,
            "width": null
          }
        },
        "264eb4c8f41a4d4fab4cffc012996eee": {
          "model_module": "@jupyter-widgets/controls",
          "model_name": "ProgressStyleModel",
          "model_module_version": "1.5.0",
          "state": {
            "_model_module": "@jupyter-widgets/controls",
            "_model_module_version": "1.5.0",
            "_model_name": "ProgressStyleModel",
            "_view_count": null,
            "_view_module": "@jupyter-widgets/base",
            "_view_module_version": "1.2.0",
            "_view_name": "StyleView",
            "bar_color": null,
            "description_width": ""
          }
        },
        "40d7e76c14ec413fa2627d3db402a916": {
          "model_module": "@jupyter-widgets/base",
          "model_name": "LayoutModel",
          "model_module_version": "1.2.0",
          "state": {
            "_model_module": "@jupyter-widgets/base",
            "_model_module_version": "1.2.0",
            "_model_name": "LayoutModel",
            "_view_count": null,
            "_view_module": "@jupyter-widgets/base",
            "_view_module_version": "1.2.0",
            "_view_name": "LayoutView",
            "align_content": null,
            "align_items": null,
            "align_self": null,
            "border": null,
            "bottom": null,
            "display": null,
            "flex": null,
            "flex_flow": null,
            "grid_area": null,
            "grid_auto_columns": null,
            "grid_auto_flow": null,
            "grid_auto_rows": null,
            "grid_column": null,
            "grid_gap": null,
            "grid_row": null,
            "grid_template_areas": null,
            "grid_template_columns": null,
            "grid_template_rows": null,
            "height": null,
            "justify_content": null,
            "justify_items": null,
            "left": null,
            "margin": null,
            "max_height": null,
            "max_width": null,
            "min_height": null,
            "min_width": null,
            "object_fit": null,
            "object_position": null,
            "order": null,
            "overflow": null,
            "overflow_x": null,
            "overflow_y": null,
            "padding": null,
            "right": null,
            "top": null,
            "visibility": null,
            "width": null
          }
        },
        "85c509cf4729448f8ba3675de2ce3552": {
          "model_module": "@jupyter-widgets/controls",
          "model_name": "DescriptionStyleModel",
          "model_module_version": "1.5.0",
          "state": {
            "_model_module": "@jupyter-widgets/controls",
            "_model_module_version": "1.5.0",
            "_model_name": "DescriptionStyleModel",
            "_view_count": null,
            "_view_module": "@jupyter-widgets/base",
            "_view_module_version": "1.2.0",
            "_view_name": "StyleView",
            "description_width": ""
          }
        }
      }
    }
  },
  "cells": [
    {
      "cell_type": "code",
      "execution_count": 1,
      "metadata": {
        "id": "ZdVUrz--moi2"
      },
      "outputs": [],
      "source": [
        "import torch\n",
        "from transformers import AutoTokenizer, AutoModelForCausalLM\n",
        "import matplotlib.pyplot as plt\n"
      ]
    },
    {
      "cell_type": "code",
      "source": [
        "def load_model():\n",
        "    print(\"Loading tokenizer and model...\")\n",
        "    tokenizer = AutoTokenizer.from_pretrained(\"shailja/fine-tuned-codegen-2B-Verilog\")\n",
        "    model = AutoModelForCausalLM.from_pretrained(\"shailja/fine-tuned-codegen-2B-Verilog\")\n",
        "    return tokenizer, model"
      ],
      "metadata": {
        "id": "E07ul8Fjm44q"
      },
      "execution_count": 2,
      "outputs": []
    },
    {
      "cell_type": "code",
      "source": [
        "def calculate_perplexity(text, tokenizer, model):\n",
        "    # Truncate text if it's too long for the model\n",
        "    max_length = 512  # Set a reasonable value\n",
        "    input_ids = tokenizer(text, return_tensors=\"pt\", truncation=True, max_length=max_length).input_ids\n",
        "    with torch.no_grad():\n",
        "        outputs = model(input_ids, labels=input_ids)\n",
        "        loss = outputs.loss\n",
        "        perplexity = torch.exp(loss)\n",
        "    return perplexity.item()"
      ],
      "metadata": {
        "id": "JFPP0TYjm6Yu"
      },
      "execution_count": 9,
      "outputs": []
    },
    {
      "cell_type": "code",
      "source": [
        "# Analyze two ALU Verilog files (clean and potentially trojaned)\n",
        "def analyze_alu_files(clean_file_path, suspicious_file_path):\n",
        "    tokenizer, model = load_model()\n",
        "\n",
        "    # Read clean ALU code\n",
        "    print(f\"Analyzing clean ALU file: {clean_file_path}\")\n",
        "    with open(clean_file_path, 'r', encoding='utf-8') as f:\n",
        "        clean_code = f.read()\n",
        "\n",
        "    clean_perplexity = calculate_perplexity(clean_code, tokenizer, model)\n",
        "    print(f\"Clean ALU perplexity: {clean_perplexity:.4f}\")\n",
        "\n",
        "    # Read suspicious ALU code\n",
        "    print(f\"\\nAnalyzing suspicious ALU file: {suspicious_file_path}\")\n",
        "    with open(suspicious_file_path, 'r', encoding='utf-8') as f:\n",
        "        suspicious_code = f.read()\n",
        "\n",
        "    suspicious_perplexity = calculate_perplexity(suspicious_code, tokenizer, model)\n",
        "    print(f\"Suspicious ALU perplexity: {suspicious_perplexity:.4f}\")\n",
        "\n",
        "    # Calculate difference and percentage\n",
        "    difference = suspicious_perplexity - clean_perplexity\n",
        "    percent_increase = (difference / clean_perplexity) * 100\n",
        "\n",
        "    print(f\"\\nPerplexity difference: {difference:.4f}\")\n",
        "    print(f\"Percent increase: {percent_increase:.2f}%\")\n",
        "\n",
        "    # Simple detection threshold (adjust as needed)\n",
        "    threshold_percent = 20\n",
        "    if percent_increase > threshold_percent:\n",
        "        print(f\"\\n⚠️ WARNING: Potential hardware trojan detected!\")\n",
        "        print(f\"Perplexity increase exceeds {threshold_percent}%\")\n",
        "    else:\n",
        "        print(f\"\\n✓ No significant anomalies detected (threshold: {threshold_percent}%)\")\n",
        "\n",
        "    # Plot the results\n",
        "    plot_comparison(clean_perplexity, suspicious_perplexity)\n",
        "\n",
        "    return clean_perplexity, suspicious_perplexity"
      ],
      "metadata": {
        "id": "GXJVRrB-m9A_"
      },
      "execution_count": 4,
      "outputs": []
    },
    {
      "cell_type": "code",
      "source": [
        "def plot_comparison(clean_perplexity, suspicious_perplexity):\n",
        "    plt.figure(figsize=(8, 5))\n",
        "\n",
        "    bars = plt.bar(['Clean ALU', 'Suspicious ALU'],\n",
        "                   [clean_perplexity, suspicious_perplexity],\n",
        "                   color=['green', 'red'], alpha=0.7)\n",
        "\n",
        "    plt.ylabel('Perplexity (lower is more expected)')\n",
        "    plt.title('Perplexity Comparison: Clean vs. Suspicious ALU Code')\n",
        "    plt.grid(axis='y', alpha=0.3)\n",
        "\n",
        "    # Add value labels on bars\n",
        "    for bar in bars:\n",
        "        height = bar.get_height()\n",
        "        plt.text(bar.get_x() + bar.get_width()/2., height + 0.1,\n",
        "                 f'{height:.4f}', ha='center', va='bottom')\n",
        "\n",
        "    plt.savefig('alu_perplexity_comparison.png')\n",
        "    plt.close()\n",
        "    print(\"Saved perplexity comparison plot to 'alu_perplexity_comparison.png'\")\n"
      ],
      "metadata": {
        "id": "Ax-JygV2nBx4"
      },
      "execution_count": 5,
      "outputs": []
    },
    {
      "cell_type": "code",
      "source": [
        "if __name__ == \"__main__\":\n",
        "    # Set these to your actual file paths\n",
        "    clean_alu_path = \"alu_clean.v\"\n",
        "    suspicious_alu_path = \"alu_suspicious.v\"\n",
        "\n",
        "    analyze_alu_files(clean_alu_path, suspicious_alu_path)"
      ],
      "metadata": {
        "colab": {
          "base_uri": "https://localhost:8080/",
          "height": 347,
          "referenced_widgets": [
            "57c49486157d4074bc9283a89383975a",
            "338a5d01f52f46d49b3b9786e1add0b5",
            "7bc25562b1984187aa9135071030355d",
            "81085898d308452b88005e5ff73c9124",
            "473a6b321440494e8416906be09f5d01",
            "0f96faf76f734a7aadbc5e91148159fa",
            "3b3810eba40445ebacc7a32dd383b171",
            "d8b6eee36ff24d759b676d94665f1470",
            "264eb4c8f41a4d4fab4cffc012996eee",
            "40d7e76c14ec413fa2627d3db402a916",
            "85c509cf4729448f8ba3675de2ce3552"
          ]
        },
        "id": "RvDy3UhmnDGM",
        "outputId": "e2567c0d-6e76-4b97-b76d-18b07d0241da"
      },
      "execution_count": 10,
      "outputs": [
        {
          "output_type": "stream",
          "name": "stdout",
          "text": [
            "Loading tokenizer and model...\n"
          ]
        },
        {
          "output_type": "display_data",
          "data": {
            "text/plain": [
              "Loading checkpoint shards:   0%|          | 0/2 [00:00<?, ?it/s]"
            ],
            "application/vnd.jupyter.widget-view+json": {
              "version_major": 2,
              "version_minor": 0,
              "model_id": "57c49486157d4074bc9283a89383975a"
            }
          },
          "metadata": {}
        },
        {
          "output_type": "stream",
          "name": "stderr",
          "text": [
            "Some weights of the model checkpoint at shailja/fine-tuned-codegen-2B-Verilog were not used when initializing CodeGenForCausalLM: ['transformer.h.0.attn.causal_mask', 'transformer.h.1.attn.causal_mask', 'transformer.h.10.attn.causal_mask', 'transformer.h.11.attn.causal_mask', 'transformer.h.12.attn.causal_mask', 'transformer.h.13.attn.causal_mask', 'transformer.h.14.attn.causal_mask', 'transformer.h.15.attn.causal_mask', 'transformer.h.16.attn.causal_mask', 'transformer.h.17.attn.causal_mask', 'transformer.h.18.attn.causal_mask', 'transformer.h.19.attn.causal_mask', 'transformer.h.2.attn.causal_mask', 'transformer.h.20.attn.causal_mask', 'transformer.h.21.attn.causal_mask', 'transformer.h.22.attn.causal_mask', 'transformer.h.23.attn.causal_mask', 'transformer.h.24.attn.causal_mask', 'transformer.h.25.attn.causal_mask', 'transformer.h.26.attn.causal_mask', 'transformer.h.27.attn.causal_mask', 'transformer.h.28.attn.causal_mask', 'transformer.h.29.attn.causal_mask', 'transformer.h.3.attn.causal_mask', 'transformer.h.30.attn.causal_mask', 'transformer.h.31.attn.causal_mask', 'transformer.h.4.attn.causal_mask', 'transformer.h.5.attn.causal_mask', 'transformer.h.6.attn.causal_mask', 'transformer.h.7.attn.causal_mask', 'transformer.h.8.attn.causal_mask', 'transformer.h.9.attn.causal_mask']\n",
            "- This IS expected if you are initializing CodeGenForCausalLM from the checkpoint of a model trained on another task or with another architecture (e.g. initializing a BertForSequenceClassification model from a BertForPreTraining model).\n",
            "- This IS NOT expected if you are initializing CodeGenForCausalLM from the checkpoint of a model that you expect to be exactly identical (initializing a BertForSequenceClassification model from a BertForSequenceClassification model).\n"
          ]
        },
        {
          "output_type": "stream",
          "name": "stdout",
          "text": [
            "Analyzing clean ALU file: alu_clean.v\n",
            "Clean ALU perplexity: 2.0105\n",
            "\n",
            "Analyzing suspicious ALU file: alu_suspicious.v\n",
            "Suspicious ALU perplexity: 3.2570\n",
            "\n",
            "Perplexity difference: 1.2465\n",
            "Percent increase: 62.00%\n",
            "\n",
            "⚠️ WARNING: Potential hardware trojan detected!\n",
            "Perplexity increase exceeds 20%\n",
            "Saved perplexity comparison plot to 'alu_perplexity_comparison.png'\n"
          ]
        }
      ]
    }
  ]
}
{
  "nbformat": 4,
  "nbformat_minor": 0,
  "metadata": {
    "colab": {
      "provenance": [],
      "authorship_tag": "ABX9TyPeVnPFCZ+g9jYgIQljggEe",
      "include_colab_link": true
    },
    "kernelspec": {
      "name": "python3",
      "display_name": "Python 3"
    },
    "language_info": {
      "name": "python"
    },
    "widgets": {
      "application/vnd.jupyter.widget-state+json": {
        "abb28a8b529b491f9ed1035239e5a7af": {
          "model_module": "@jupyter-widgets/controls",
          "model_name": "HBoxModel",
          "model_module_version": "1.5.0",
          "state": {
            "_dom_classes": [],
            "_model_module": "@jupyter-widgets/controls",
            "_model_module_version": "1.5.0",
            "_model_name": "HBoxModel",
            "_view_count": null,
            "_view_module": "@jupyter-widgets/controls",
            "_view_module_version": "1.5.0",
            "_view_name": "HBoxView",
            "box_style": "",
            "children": [
              "IPY_MODEL_c2901eef064b4a808f9d997357bb5e43",
              "IPY_MODEL_2d516e64f788429d85180a87857acc3a",
              "IPY_MODEL_f3da93d17592435bb7ab16497bb00760"
            ],
            "layout": "IPY_MODEL_94ed6762258b4769991542add789c7e6"
          }
        },
        "c2901eef064b4a808f9d997357bb5e43": {
          "model_module": "@jupyter-widgets/controls",
          "model_name": "HTMLModel",
          "model_module_version": "1.5.0",
          "state": {
            "_dom_classes": [],
            "_model_module": "@jupyter-widgets/controls",
            "_model_module_version": "1.5.0",
            "_model_name": "HTMLModel",
            "_view_count": null,
            "_view_module": "@jupyter-widgets/controls",
            "_view_module_version": "1.5.0",
            "_view_name": "HTMLView",
            "description": "",
            "description_tooltip": null,
            "layout": "IPY_MODEL_7c774c497b11426a91d313caad883b4b",
            "placeholder": "​",
            "style": "IPY_MODEL_9e455e7b1de54d6780613e8f2a55f71c",
            "value": "Loading checkpoint shards: 100%"
          }
        },
        "2d516e64f788429d85180a87857acc3a": {
          "model_module": "@jupyter-widgets/controls",
          "model_name": "FloatProgressModel",
          "model_module_version": "1.5.0",
          "state": {
            "_dom_classes": [],
            "_model_module": "@jupyter-widgets/controls",
            "_model_module_version": "1.5.0",
            "_model_name": "FloatProgressModel",
            "_view_count": null,
            "_view_module": "@jupyter-widgets/controls",
            "_view_module_version": "1.5.0",
            "_view_name": "ProgressView",
            "bar_style": "success",
            "description": "",
            "description_tooltip": null,
            "layout": "IPY_MODEL_5a94eaf49f4a43709e53f835ea515c24",
            "max": 2,
            "min": 0,
            "orientation": "horizontal",
            "style": "IPY_MODEL_2b00ba08419e45098e3a017567bc025a",
            "value": 2
          }
        },
        "f3da93d17592435bb7ab16497bb00760": {
          "model_module": "@jupyter-widgets/controls",
          "model_name": "HTMLModel",
          "model_module_version": "1.5.0",
          "state": {
            "_dom_classes": [],
            "_model_module": "@jupyter-widgets/controls",
            "_model_module_version": "1.5.0",
            "_model_name": "HTMLModel",
            "_view_count": null,
            "_view_module": "@jupyter-widgets/controls",
            "_view_module_version": "1.5.0",
            "_view_name": "HTMLView",
            "description": "",
            "description_tooltip": null,
            "layout": "IPY_MODEL_ff3df97c530047ff94a61062d2159be0",
            "placeholder": "​",
            "style": "IPY_MODEL_09693604b2784928842ef155c48ced05",
            "value": " 2/2 [00:00&lt;00:00, 22.58it/s]"
          }
        },
        "94ed6762258b4769991542add789c7e6": {
          "model_module": "@jupyter-widgets/base",
          "model_name": "LayoutModel",
          "model_module_version": "1.2.0",
          "state": {
            "_model_module": "@jupyter-widgets/base",
            "_model_module_version": "1.2.0",
            "_model_name": "LayoutModel",
            "_view_count": null,
            "_view_module": "@jupyter-widgets/base",
            "_view_module_version": "1.2.0",
            "_view_name": "LayoutView",
            "align_content": null,
            "align_items": null,
            "align_self": null,
            "border": null,
            "bottom": null,
            "display": null,
            "flex": null,
            "flex_flow": null,
            "grid_area": null,
            "grid_auto_columns": null,
            "grid_auto_flow": null,
            "grid_auto_rows": null,
            "grid_column": null,
            "grid_gap": null,
            "grid_row": null,
            "grid_template_areas": null,
            "grid_template_columns": null,
            "grid_template_rows": null,
            "height": null,
            "justify_content": null,
            "justify_items": null,
            "left": null,
            "margin": null,
            "max_height": null,
            "max_width": null,
            "min_height": null,
            "min_width": null,
            "object_fit": null,
            "object_position": null,
            "order": null,
            "overflow": null,
            "overflow_x": null,
            "overflow_y": null,
            "padding": null,
            "right": null,
            "top": null,
            "visibility": null,
            "width": null
          }
        },
        "7c774c497b11426a91d313caad883b4b": {
          "model_module": "@jupyter-widgets/base",
          "model_name": "LayoutModel",
          "model_module_version": "1.2.0",
          "state": {
            "_model_module": "@jupyter-widgets/base",
            "_model_module_version": "1.2.0",
            "_model_name": "LayoutModel",
            "_view_count": null,
            "_view_module": "@jupyter-widgets/base",
            "_view_module_version": "1.2.0",
            "_view_name": "LayoutView",
            "align_content": null,
            "align_items": null,
            "align_self": null,
            "border": null,
            "bottom": null,
            "display": null,
            "flex": null,
            "flex_flow": null,
            "grid_area": null,
            "grid_auto_columns": null,
            "grid_auto_flow": null,
            "grid_auto_rows": null,
            "grid_column": null,
            "grid_gap": null,
            "grid_row": null,
            "grid_template_areas": null,
            "grid_template_columns": null,
            "grid_template_rows": null,
            "height": null,
            "justify_content": null,
            "justify_items": null,
            "left": null,
            "margin": null,
            "max_height": null,
            "max_width": null,
            "min_height": null,
            "min_width": null,
            "object_fit": null,
            "object_position": null,
            "order": null,
            "overflow": null,
            "overflow_x": null,
            "overflow_y": null,
            "padding": null,
            "right": null,
            "top": null,
            "visibility": null,
            "width": null
          }
        },
        "9e455e7b1de54d6780613e8f2a55f71c": {
          "model_module": "@jupyter-widgets/controls",
          "model_name": "DescriptionStyleModel",
          "model_module_version": "1.5.0",
          "state": {
            "_model_module": "@jupyter-widgets/controls",
            "_model_module_version": "1.5.0",
            "_model_name": "DescriptionStyleModel",
            "_view_count": null,
            "_view_module": "@jupyter-widgets/base",
            "_view_module_version": "1.2.0",
            "_view_name": "StyleView",
            "description_width": ""
          }
        },
        "5a94eaf49f4a43709e53f835ea515c24": {
          "model_module": "@jupyter-widgets/base",
          "model_name": "LayoutModel",
          "model_module_version": "1.2.0",
          "state": {
            "_model_module": "@jupyter-widgets/base",
            "_model_module_version": "1.2.0",
            "_model_name": "LayoutModel",
            "_view_count": null,
            "_view_module": "@jupyter-widgets/base",
            "_view_module_version": "1.2.0",
            "_view_name": "LayoutView",
            "align_content": null,
            "align_items": null,
            "align_self": null,
            "border": null,
            "bottom": null,
            "display": null,
            "flex": null,
            "flex_flow": null,
            "grid_area": null,
            "grid_auto_columns": null,
            "grid_auto_flow": null,
            "grid_auto_rows": null,
            "grid_column": null,
            "grid_gap": null,
            "grid_row": null,
            "grid_template_areas": null,
            "grid_template_columns": null,
            "grid_template_rows": null,
            "height": null,
            "justify_content": null,
            "justify_items": null,
            "left": null,
            "margin": null,
            "max_height": null,
            "max_width": null,
            "min_height": null,
            "min_width": null,
            "object_fit": null,
            "object_position": null,
            "order": null,
            "overflow": null,
            "overflow_x": null,
            "overflow_y": null,
            "padding": null,
            "right": null,
            "top": null,
            "visibility": null,
            "width": null
          }
        },
        "2b00ba08419e45098e3a017567bc025a": {
          "model_module": "@jupyter-widgets/controls",
          "model_name": "ProgressStyleModel",
          "model_module_version": "1.5.0",
          "state": {
            "_model_module": "@jupyter-widgets/controls",
            "_model_module_version": "1.5.0",
            "_model_name": "ProgressStyleModel",
            "_view_count": null,
            "_view_module": "@jupyter-widgets/base",
            "_view_module_version": "1.2.0",
            "_view_name": "StyleView",
            "bar_color": null,
            "description_width": ""
          }
        },
        "ff3df97c530047ff94a61062d2159be0": {
          "model_module": "@jupyter-widgets/base",
          "model_name": "LayoutModel",
          "model_module_version": "1.2.0",
          "state": {
            "_model_module": "@jupyter-widgets/base",
            "_model_module_version": "1.2.0",
            "_model_name": "LayoutModel",
            "_view_count": null,
            "_view_module": "@jupyter-widgets/base",
            "_view_module_version": "1.2.0",
            "_view_name": "LayoutView",
            "align_content": null,
            "align_items": null,
            "align_self": null,
            "border": null,
            "bottom": null,
            "display": null,
            "flex": null,
            "flex_flow": null,
            "grid_area": null,
            "grid_auto_columns": null,
            "grid_auto_flow": null,
            "grid_auto_rows": null,
            "grid_column": null,
            "grid_gap": null,
            "grid_row": null,
            "grid_template_areas": null,
            "grid_template_columns": null,
            "grid_template_rows": null,
            "height": null,
            "justify_content": null,
            "justify_items": null,
            "left": null,
            "margin": null,
            "max_height": null,
            "max_width": null,
            "min_height": null,
            "min_width": null,
            "object_fit": null,
            "object_position": null,
            "order": null,
            "overflow": null,
            "overflow_x": null,
            "overflow_y": null,
            "padding": null,
            "right": null,
            "top": null,
            "visibility": null,
            "width": null
          }
        },
        "09693604b2784928842ef155c48ced05": {
          "model_module": "@jupyter-widgets/controls",
          "model_name": "DescriptionStyleModel",
          "model_module_version": "1.5.0",
          "state": {
            "_model_module": "@jupyter-widgets/controls",
            "_model_module_version": "1.5.0",
            "_model_name": "DescriptionStyleModel",
            "_view_count": null,
            "_view_module": "@jupyter-widgets/base",
            "_view_module_version": "1.2.0",
            "_view_name": "StyleView",
            "description_width": ""
          }
        }
      }
    }
  },
  "cells": [
    {
      "cell_type": "markdown",
      "metadata": {
        "id": "view-in-github",
        "colab_type": "text"
      },
      "source": [
        "<a href=\"https://colab.research.google.com/github/Tusharprabhu/HardwareTrojanDetection/blob/main/verilogtrojan.ipynb\" target=\"_parent\"><img src=\"https://colab.research.google.com/assets/colab-badge.svg\" alt=\"Open In Colab\"/></a>"
      ]
    },
    {
      "cell_type": "code",
      "execution_count": null,
      "metadata": {
        "id": "ZdVUrz--moi2"
      },
      "outputs": [],
      "source": [
        "import torch\n",
        "from transformers import AutoTokenizer, AutoModelForCausalLM\n",
        "import matplotlib.pyplot as plt\n"
      ]
    },
    {
      "cell_type": "code",
      "source": [
        "def load_model():\n",
        "    print(\"Loading tokenizer and model...\")\n",
        "    tokenizer = AutoTokenizer.from_pretrained(\"shailja/fine-tuned-codegen-2B-Verilog\")\n",
        "    model = AutoModelForCausalLM.from_pretrained(\"shailja/fine-tuned-codegen-2B-Verilog\")\n",
        "    return tokenizer, model"
      ],
      "metadata": {
        "id": "E07ul8Fjm44q"
      },
      "execution_count": null,
      "outputs": []
    },
    {
      "cell_type": "code",
      "source": [
        "def calculate_perplexity(text, tokenizer, model):\n",
        "    # Truncate text if it's too long for the model\n",
        "    max_length = 512  # Set a reasonable value\n",
        "    input_ids = tokenizer(text, return_tensors=\"pt\", truncation=True, max_length=max_length).input_ids\n",
        "    with torch.no_grad():\n",
        "        outputs = model(input_ids, labels=input_ids)\n",
        "        loss = outputs.loss\n",
        "        perplexity = torch.exp(loss)\n",
        "    return perplexity.item()"
      ],
      "metadata": {
        "id": "JFPP0TYjm6Yu"
      },
      "execution_count": null,
      "outputs": []
    },
    {
      "cell_type": "code",
      "source": [
        "\n",
        "def analyze_alu_files(clean_file_path, suspicious_file_path):\n",
        "    tokenizer, model = load_model()\n",
        "\n",
        "\n",
        "    print(f\"Analyzing clean ALU file: {clean_file_path}\")\n",
        "    with open(clean_file_path, 'r', encoding='utf-8') as f:\n",
        "        clean_code = f.read()\n",
        "\n",
        "    clean_perplexity = calculate_perplexity(clean_code, tokenizer, model)\n",
        "    print(f\"Clean ALU perplexity: {clean_perplexity:.4f}\")\n",
        "\n",
        "    print(f\"\\nAnalyzing suspicious ALU file: {suspicious_file_path}\")\n",
        "    with open(suspicious_file_path, 'r', encoding='utf-8') as f:\n",
        "        suspicious_code = f.read()\n",
        "\n",
        "    suspicious_perplexity = calculate_perplexity(suspicious_code, tokenizer, model)\n",
        "    print(f\"Suspicious ALU perplexity: {suspicious_perplexity:.4f}\")\n",
        "\n",
        "\n",
        "    difference = suspicious_perplexity - clean_perplexity\n",
        "    percent_increase = (difference / clean_perplexity) * 100\n",
        "\n",
        "    print(f\"\\nPerplexity difference: {difference:.4f}\")\n",
        "    print(f\"Percent increase: {percent_increase:.2f}%\")\n",
        "\n",
        "    threshold_percent = 20\n",
        "    if percent_increase > threshold_percent:\n",
        "        print(f\"Potential hardware trojan detected!\")\n",
        "        print(f\"Perplexity increase exceeds {threshold_percent}%\")\n",
        "    else:\n",
        "        print(f\"\\n✓ No significant anomalies detected (threshold: {threshold_percent}%)\")\n",
        "\n",
        "\n",
        "    plot_comparison(clean_perplexity, suspicious_perplexity)\n",
        "\n",
        "    return clean_perplexity, suspicious_perplexity"
      ],
      "metadata": {
        "id": "GXJVRrB-m9A_"
      },
      "execution_count": null,
      "outputs": []
    },
    {
      "cell_type": "code",
      "source": [
        "def plot_comparison(clean_perplexity, suspicious_perplexity):\n",
        "    plt.figure(figsize=(8, 5))\n",
        "\n",
        "    bars = plt.bar(['Clean ALU', 'Suspicious ALU'],\n",
        "                   [clean_perplexity, suspicious_perplexity],\n",
        "                   color=['green', 'red'], alpha=0.7)\n",
        "\n",
        "    plt.ylabel('Perplexity (lower is more expected)')\n",
        "    plt.title('Perplexity Comparison: Clean vs. Suspicious ALU Code')\n",
        "    plt.grid(axis='y', alpha=0.3)\n",
        "\n",
        "    for bar in bars:\n",
        "        height = bar.get_height()\n",
        "        plt.text(bar.get_x() + bar.get_width()/2., height + 0.1,\n",
        "                 f'{height:.4f}', ha='center', va='bottom')\n",
        "\n",
        "    plt.savefig('alu_perplexity_comparison.png')\n",
        "    plt.close()\n",
        "    print(\"Saved perplexity comparison plot to 'alu_perplexity_comparison.png'\")\n"
      ],
      "metadata": {
        "id": "Ax-JygV2nBx4"
      },
      "execution_count": null,
      "outputs": []
    },
    {
      "cell_type": "code",
      "source": [
        "if __name__ == \"__main__\":\n",
        "    clean_alu_path = \"alu_clean.v\"\n",
        "    suspicious_alu_path = \"alu_suspicious.v\"\n",
        "\n",
        "    analyze_alu_files(clean_alu_path, suspicious_alu_path)"
      ],
      "metadata": {
        "colab": {
          "base_uri": "https://localhost:8080/",
          "height": 329,
          "referenced_widgets": [
            "abb28a8b529b491f9ed1035239e5a7af",
            "c2901eef064b4a808f9d997357bb5e43",
            "2d516e64f788429d85180a87857acc3a",
            "f3da93d17592435bb7ab16497bb00760",
            "94ed6762258b4769991542add789c7e6",
            "7c774c497b11426a91d313caad883b4b",
            "9e455e7b1de54d6780613e8f2a55f71c",
            "5a94eaf49f4a43709e53f835ea515c24",
            "2b00ba08419e45098e3a017567bc025a",
            "ff3df97c530047ff94a61062d2159be0",
            "09693604b2784928842ef155c48ced05"
          ]
        },
        "id": "RvDy3UhmnDGM",
        "outputId": "1b3eb420-532f-44c2-b5b7-01aba86d0390"
      },
      "execution_count": null,
      "outputs": [
        {
          "output_type": "stream",
          "name": "stdout",
          "text": [
            "Loading tokenizer and model...\n"
          ]
        },
        {
          "output_type": "display_data",
          "data": {
            "text/plain": [
              "Loading checkpoint shards:   0%|          | 0/2 [00:00<?, ?it/s]"
            ],
            "application/vnd.jupyter.widget-view+json": {
              "version_major": 2,
              "version_minor": 0,
              "model_id": "abb28a8b529b491f9ed1035239e5a7af"
            }
          },
          "metadata": {}
        },
        {
          "output_type": "stream",
          "name": "stderr",
          "text": [
            "Some weights of the model checkpoint at shailja/fine-tuned-codegen-2B-Verilog were not used when initializing CodeGenForCausalLM: ['transformer.h.0.attn.causal_mask', 'transformer.h.1.attn.causal_mask', 'transformer.h.10.attn.causal_mask', 'transformer.h.11.attn.causal_mask', 'transformer.h.12.attn.causal_mask', 'transformer.h.13.attn.causal_mask', 'transformer.h.14.attn.causal_mask', 'transformer.h.15.attn.causal_mask', 'transformer.h.16.attn.causal_mask', 'transformer.h.17.attn.causal_mask', 'transformer.h.18.attn.causal_mask', 'transformer.h.19.attn.causal_mask', 'transformer.h.2.attn.causal_mask', 'transformer.h.20.attn.causal_mask', 'transformer.h.21.attn.causal_mask', 'transformer.h.22.attn.causal_mask', 'transformer.h.23.attn.causal_mask', 'transformer.h.24.attn.causal_mask', 'transformer.h.25.attn.causal_mask', 'transformer.h.26.attn.causal_mask', 'transformer.h.27.attn.causal_mask', 'transformer.h.28.attn.causal_mask', 'transformer.h.29.attn.causal_mask', 'transformer.h.3.attn.causal_mask', 'transformer.h.30.attn.causal_mask', 'transformer.h.31.attn.causal_mask', 'transformer.h.4.attn.causal_mask', 'transformer.h.5.attn.causal_mask', 'transformer.h.6.attn.causal_mask', 'transformer.h.7.attn.causal_mask', 'transformer.h.8.attn.causal_mask', 'transformer.h.9.attn.causal_mask']\n",
            "- This IS expected if you are initializing CodeGenForCausalLM from the checkpoint of a model trained on another task or with another architecture (e.g. initializing a BertForSequenceClassification model from a BertForPreTraining model).\n",
            "- This IS NOT expected if you are initializing CodeGenForCausalLM from the checkpoint of a model that you expect to be exactly identical (initializing a BertForSequenceClassification model from a BertForSequenceClassification model).\n"
          ]
        },
        {
          "output_type": "stream",
          "name": "stdout",
          "text": [
            "Analyzing clean ALU file: alu_clean.v\n",
            "Clean ALU perplexity: 2.0105\n",
            "\n",
            "Analyzing suspicious ALU file: alu_suspicious.v\n",
            "Suspicious ALU perplexity: 3.2570\n",
            "\n",
            "Perplexity difference: 1.2465\n",
            "Percent increase: 62.00%\n",
            "Potential hardware trojan detected!\n",
            "Perplexity increase exceeds 20%\n",
            "Saved perplexity comparison plot to 'alu_perplexity_comparison.png'\n"
          ]
        }
      ]
    },
    {
      "cell_type": "markdown",
      "metadata": {
        "id": "f1698e5e"
      },
      "source": [
        "# Hardware Trojan Detection using Language Models\n",
        "\n",
        "This project demonstrates how to use a pre-trained language model to detect potential hardware trojans in Verilog code. The core idea is that a hardware trojan, being an unexpected and malicious modification, will likely have a higher perplexity score when analyzed by a language model trained on legitimate hardware designs.\n",
        "\n",
        "## How it Works\n",
        "\n",
        "1. **Language Model:** We use the `shailja/fine-tuned-codegen-2B-Verilog` model, which is a CodeGen model fine-tuned on Verilog code. This model has learned the statistical patterns of legitimate Verilog code.\n",
        "\n",
        "2. **Perplexity:** Perplexity is a measure of how well a probability model predicts a sample. In our case, it measures how \"surprising\" a piece of Verilog code is to the language model. A lower perplexity score indicates that the code is more expected and \"natural\" according to the model's learned patterns.\n",
        "\n",
        "3. **Trojan Detection:** We calculate the perplexity of a \"clean\" (known good) Verilog file and a \"suspicious\" Verilog file. A significantly higher perplexity score for the suspicious file suggests that it contains code that deviates from the norm, which could indicate the presence of a hardware trojan.\n",
        "\n",
        "## How to Use\n",
        "\n",
        "1. **Install dependencies:**"
      ]
    },
    {
      "cell_type": "code",
      "metadata": {
        "id": "14c9a2f7"
      },
      "source": [
        "   if __name__ == \"__main__\":\n",
        "       clean_alu_path = \"alu_clean.v\"\n",
        "       suspicious_alu_path = \"alu_suspicious.v\"\n",
        "\n",
        "       analyze_alu_files(clean_alu_path, suspicious_alu_path)"
      ],
      "execution_count": null,
      "outputs": []
    }
  ]
}